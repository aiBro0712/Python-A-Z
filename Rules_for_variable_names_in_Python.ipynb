{
  "nbformat": 4,
  "nbformat_minor": 0,
  "metadata": {
    "colab": {
      "provenance": [],
      "authorship_tag": "ABX9TyMcJoUEjsAABLqDxI3nSf+b",
      "include_colab_link": true
    },
    "kernelspec": {
      "name": "python3",
      "display_name": "Python 3"
    },
    "language_info": {
      "name": "python"
    }
  },
  "cells": [
    {
      "cell_type": "markdown",
      "metadata": {
        "id": "view-in-github",
        "colab_type": "text"
      },
      "source": [
        "<a href=\"https://colab.research.google.com/github/aiBro0712/Python-A-Z/blob/main/Rules_for_variable_names_in_Python.ipynb\" target=\"_parent\"><img src=\"https://colab.research.google.com/assets/colab-badge.svg\" alt=\"Open In Colab\"/></a>"
      ]
    },
    {
      "cell_type": "markdown",
      "source": [
        "##Rules for variable names in Python"
      ],
      "metadata": {
        "id": "o4i98UoHL7xu"
      }
    },
    {
      "cell_type": "markdown",
      "source": [
        "### 1. Variable names in Python are case-sensitive. For example, \"myVariable\" and \"myvariable\" are considered different variables."
      ],
      "metadata": {
        "id": "iq1Zr6-YMDte"
      }
    },
    {
      "cell_type": "code",
      "source": [
        "myVariable = 10\n",
        "print(myvariable)"
      ],
      "metadata": {
        "colab": {
          "base_uri": "https://localhost:8080/",
          "height": 184
        },
        "id": "zUneiavlMQ0d",
        "outputId": "06a689a0-77f3-46a5-f867-673728cf1f38"
      },
      "execution_count": 1,
      "outputs": [
        {
          "output_type": "error",
          "ename": "NameError",
          "evalue": "ignored",
          "traceback": [
            "\u001b[0;31m---------------------------------------------------------------------------\u001b[0m",
            "\u001b[0;31mNameError\u001b[0m                                 Traceback (most recent call last)",
            "\u001b[0;32m<ipython-input-1-0b5cf1d52f44>\u001b[0m in \u001b[0;36m<cell line: 2>\u001b[0;34m()\u001b[0m\n\u001b[1;32m      1\u001b[0m \u001b[0mmyVariable\u001b[0m \u001b[0;34m=\u001b[0m \u001b[0;36m10\u001b[0m\u001b[0;34m\u001b[0m\u001b[0;34m\u001b[0m\u001b[0m\n\u001b[0;32m----> 2\u001b[0;31m \u001b[0mprint\u001b[0m\u001b[0;34m(\u001b[0m\u001b[0mmyvariable\u001b[0m\u001b[0;34m)\u001b[0m\u001b[0;34m\u001b[0m\u001b[0;34m\u001b[0m\u001b[0m\n\u001b[0m",
            "\u001b[0;31mNameError\u001b[0m: name 'myvariable' is not defined"
          ]
        }
      ]
    },
    {
      "cell_type": "markdown",
      "source": [
        "###2.Variable names in Python can not start with a number"
      ],
      "metadata": {
        "id": "G5yifZonMbsO"
      }
    },
    {
      "cell_type": "code",
      "source": [],
      "metadata": {
        "id": "gA605lGHMyfF"
      },
      "execution_count": null,
      "outputs": []
    },
    {
      "cell_type": "markdown",
      "source": [
        "###3.Variable names in Python can not contain spaces, can use _  use _ intead space"
      ],
      "metadata": {
        "id": "C12q8GIsM6zl"
      }
    },
    {
      "cell_type": "code",
      "source": [],
      "metadata": {
        "id": "hHPTRaP0NPbN"
      },
      "execution_count": null,
      "outputs": []
    },
    {
      "cell_type": "markdown",
      "source": [
        "###4.Reserved keywords: You cannot use reserved keywords. For example, you cannot use \"if,\" \"else,\" \"while,\" \"for,\" \"class,\" etc., as variable names"
      ],
      "metadata": {
        "id": "__lAzztpNZSV"
      }
    },
    {
      "cell_type": "code",
      "source": [],
      "metadata": {
        "colab": {
          "base_uri": "https://localhost:8080/",
          "height": 131
        },
        "id": "r_f_j3YQNhL1",
        "outputId": "9581b7f2-c261-4325-f362-fac5f91dd41a"
      },
      "execution_count": 6,
      "outputs": [
        {
          "output_type": "error",
          "ename": "SyntaxError",
          "evalue": "ignored",
          "traceback": [
            "\u001b[0;36m  File \u001b[0;32m\"<ipython-input-6-563084b3e606>\"\u001b[0;36m, line \u001b[0;32m1\u001b[0m\n\u001b[0;31m    if = 10\u001b[0m\n\u001b[0m       ^\u001b[0m\n\u001b[0;31mSyntaxError\u001b[0m\u001b[0;31m:\u001b[0m invalid syntax\n"
          ]
        }
      ]
    },
    {
      "cell_type": "markdown",
      "source": [
        "###5. Variable names in Python  can not contain any of these symbols:\n",
        "\n",
        ":'\",<>/?|\\!@#%^&*~-+"
      ],
      "metadata": {
        "id": "fPa5v6uSN5ue"
      }
    },
    {
      "cell_type": "code",
      "source": [
        "my#name = 'xyz'"
      ],
      "metadata": {
        "colab": {
          "base_uri": "https://localhost:8080/",
          "height": 166
        },
        "id": "ZEpk9niAOId1",
        "outputId": "30c7974c-25de-4da3-f05f-219c50beee81"
      },
      "execution_count": 7,
      "outputs": [
        {
          "output_type": "error",
          "ename": "NameError",
          "evalue": "ignored",
          "traceback": [
            "\u001b[0;31m---------------------------------------------------------------------------\u001b[0m",
            "\u001b[0;31mNameError\u001b[0m                                 Traceback (most recent call last)",
            "\u001b[0;32m<ipython-input-7-29c2781b62b0>\u001b[0m in \u001b[0;36m<cell line: 1>\u001b[0;34m()\u001b[0m\n\u001b[0;32m----> 1\u001b[0;31m \u001b[0mmy\u001b[0m\u001b[0;31m#name = 'xyz'\u001b[0m\u001b[0;34m\u001b[0m\u001b[0;34m\u001b[0m\u001b[0m\n\u001b[0m",
            "\u001b[0;31mNameError\u001b[0m: name 'my' is not defined"
          ]
        }
      ]
    },
    {
      "cell_type": "markdown",
      "source": [
        "###6. Avoid using single-character names like \"a,\" \"b,\" or \"x\" unless they have a clear context."
      ],
      "metadata": {
        "id": "M4Jspo-POb99"
      }
    },
    {
      "cell_type": "code",
      "source": [
        "employee_count = 100"
      ],
      "metadata": {
        "id": "FN9VCIVUOeSl"
      },
      "execution_count": 8,
      "outputs": []
    },
    {
      "cell_type": "markdown",
      "source": [
        "###7. PEP 8(Python Enhancement Protocol 8) guidelines for variable names:\n",
        "\n",
        "\n",
        "\n",
        "1.   Use lowercase letters for variable names.\n",
        "2.  If the variable name consists of multiple words, separate them with underscores. (e.g., my_variable, count_total, etc.)\n",
        "3.   For constants, use uppercase letters and separate words with underscores. (e.g., PI, MAX_LENGTH, etc.)\n",
        "\n",
        "\n",
        "---\n",
        "\n"
      ],
      "metadata": {
        "id": "eTXNaPyhO9He"
      }
    },
    {
      "cell_type": "code",
      "source": [
        "name = 'xyz'\n",
        "print(name)"
      ],
      "metadata": {
        "colab": {
          "base_uri": "https://localhost:8080/"
        },
        "id": "0xRt0pKLWFFL",
        "outputId": "0e1b8a1f-cc87-43cc-a2ad-c8f0b8af1d94"
      },
      "execution_count": 10,
      "outputs": [
        {
          "output_type": "stream",
          "name": "stdout",
          "text": [
            "xyz\n"
          ]
        }
      ]
    },
    {
      "cell_type": "code",
      "source": [
        "employee_count =100"
      ],
      "metadata": {
        "id": "SsAgehNwWMhz"
      },
      "execution_count": 11,
      "outputs": []
    },
    {
      "cell_type": "code",
      "source": [
        "MAX_LENGTH =100"
      ],
      "metadata": {
        "id": "nW3NWkuFWYIT"
      },
      "execution_count": 12,
      "outputs": []
    },
    {
      "cell_type": "code",
      "source": [],
      "metadata": {
        "id": "Q2lFkfwFWtZr"
      },
      "execution_count": null,
      "outputs": []
    }
  ]
}