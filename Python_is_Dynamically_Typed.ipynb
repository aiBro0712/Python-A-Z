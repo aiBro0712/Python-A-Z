{
  "nbformat": 4,
  "nbformat_minor": 0,
  "metadata": {
    "colab": {
      "provenance": [],
      "toc_visible": true
    },
    "kernelspec": {
      "name": "python3",
      "display_name": "Python 3"
    },
    "language_info": {
      "name": "python"
    }
  },
  "cells": [
    {
      "cell_type": "markdown",
      "source": [
        "# Python is Dynamically Typed"
      ],
      "metadata": {
        "id": "S1IjaP2yltM0"
      }
    },
    {
      "cell_type": "markdown",
      "source": [
        "\n",
        "\n",
        "1.   Python is a dynamically typed programming language, which means that the data type of a variable is determined at runtime.\n",
        "2.   Unlike statically typed languages, where variable types must be explicitly declared before use,\n",
        "3. Python allows variables to change their data type during execution.\n",
        "4.   This feature makes Python flexible and easy to use, as you can quickly assign values of different data types to the same variable without explicit type annotations.\n",
        "5.Using type() for figuring out the type of the variable\n",
        "\n",
        "\n",
        "\n"
      ],
      "metadata": {
        "id": "6KUycTBAl4o6"
      }
    },
    {
      "cell_type": "markdown",
      "source": [
        "#Dynamic typing in action"
      ],
      "metadata": {
        "id": "C5y4iG8uoLjE"
      }
    },
    {
      "cell_type": "markdown",
      "source": [
        "### 1. Dynamic Typing.\n",
        "\n",
        "\n",
        "*    you don't need to declare the data type of a variable before assigning a value to it.\n",
        "*   The interpreter automatically determines the type based on the value assigned.\n",
        "\n"
      ],
      "metadata": {
        "id": "trBHxxwMoRyd"
      }
    },
    {
      "cell_type": "code",
      "source": [
        "x = 10\n",
        "print(\"x is of type:\", type(x))\n",
        "\n",
        "x = \"Hello\"\n",
        "print(\"x is of type:\", type(x))"
      ],
      "metadata": {
        "colab": {
          "base_uri": "https://localhost:8080/"
        },
        "id": "0ZwKYsPvobbi",
        "outputId": "d9a965db-f92e-46b2-a119-1244e6be4d7e"
      },
      "execution_count": 1,
      "outputs": [
        {
          "output_type": "stream",
          "name": "stdout",
          "text": [
            "x is of type: <class 'int'>\n",
            "x is of type: <class 'str'>\n"
          ]
        }
      ]
    },
    {
      "cell_type": "markdown",
      "source": [
        "###2.Reassigning Variables\n",
        "\n",
        "* Dynamic typing allows us to reassign variables to values of different types during execution.\n",
        "\n",
        "\n"
      ],
      "metadata": {
        "id": "4OWUMLZno27t"
      }
    },
    {
      "cell_type": "code",
      "source": [
        "# Example 2: Reassigning variables with different types\n",
        "age = 25\n",
        "print(\"Age is of type:\", type(age))  # Output: Age is of type: <class 'int'>\n",
        "\n",
        "age = \"Twenty-Five\"\n",
        "print(\"Age is of type:\", type(age))  # Output: Age is of type: <class 'str'>\n"
      ],
      "metadata": {
        "colab": {
          "base_uri": "https://localhost:8080/"
        },
        "id": "MASoblcbpKpb",
        "outputId": "a46250fa-cb34-479a-d1c4-d2b3eb1fe8ac"
      },
      "execution_count": 2,
      "outputs": [
        {
          "output_type": "stream",
          "name": "stdout",
          "text": [
            "Age is of type: <class 'int'>\n",
            "Age is of type: <class 'str'>\n"
          ]
        }
      ]
    },
    {
      "cell_type": "markdown",
      "source": [
        "###3. Operations and Dynamic Typing.\n",
        "\n",
        "*  Python's dynamic typing allows us to perform operations on variables without worrying about their data types.\n",
        "*  The interpreter automatically handles type conversions where possible\n",
        "\n"
      ],
      "metadata": {
        "id": "ZChzv4Rtpb3r"
      }
    },
    {
      "cell_type": "code",
      "source": [
        "# Example 3: Operations with dynamic typing\n",
        "a = 10\n",
        "b = 3.5\n",
        "result = a + b\n",
        "print(\"result is of type:\", type(result))  # Output: result is of type: <class 'float'>\n"
      ],
      "metadata": {
        "colab": {
          "base_uri": "https://localhost:8080/"
        },
        "id": "ZPr2qRm8py2D",
        "outputId": "f4314b38-f36d-4a0f-9f28-25cc08123ee3"
      },
      "execution_count": 3,
      "outputs": [
        {
          "output_type": "stream",
          "name": "stdout",
          "text": [
            "result is of type: <class 'float'>\n"
          ]
        }
      ]
    },
    {
      "cell_type": "code",
      "source": [],
      "metadata": {
        "id": "OkhA1xJGqaxr"
      },
      "execution_count": null,
      "outputs": []
    }
  ]
}