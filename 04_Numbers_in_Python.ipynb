{
  "nbformat": 4,
  "nbformat_minor": 0,
  "metadata": {
    "colab": {
      "provenance": [],
      "authorship_tag": "ABX9TyPYX5pec+oSrTtZF6l4TP4R",
      "include_colab_link": true
    },
    "kernelspec": {
      "name": "python3",
      "display_name": "Python 3"
    },
    "language_info": {
      "name": "python"
    }
  },
  "cells": [
    {
      "cell_type": "markdown",
      "metadata": {
        "id": "view-in-github",
        "colab_type": "text"
      },
      "source": [
        "<a href=\"https://colab.research.google.com/github/aiBro0712/Python-A-Z/blob/main/05_Numbers_in_Python.ipynb\" target=\"_parent\"><img src=\"https://colab.research.google.com/assets/colab-badge.svg\" alt=\"Open In Colab\"/></a>"
      ]
    },
    {
      "cell_type": "markdown",
      "source": [
        "###Numbers in Python"
      ],
      "metadata": {
        "id": "gy45IKiS-xhi"
      }
    },
    {
      "cell_type": "markdown",
      "source": [
        "Agenda:\n",
        "\n",
        "\n",
        "1.   Learn Major Numeric datatypes(numeric literals)\n",
        "2.   Basic Arithmetic examples\n",
        "\n"
      ],
      "metadata": {
        "id": "Ak7sEEcFAwzb"
      }
    },
    {
      "cell_type": "markdown",
      "source": [
        "Python has various \"types\" of numbers (numeric literals).\n",
        "We'll mainly focus on  integers and floating point numbers.\n",
        "\n",
        "**Integers** are just whole numbers, positive or negative. For example: 3 and -3.\n",
        "\n",
        "**Floating point numbers** in Python  they have a decimal point in them, or use an exponential (e) to define the number. For example 3.0 and -2.1.      \n",
        "4E3 (4 times 10 to the power of 3) is also an example of a floating point number in Python.\n",
        "More examples  1.2,-0.5,2e2,3E2"
      ],
      "metadata": {
        "id": "IW6IZALx-wHE"
      }
    },
    {
      "cell_type": "markdown",
      "source": [
        "#### Basic Arithmetic"
      ],
      "metadata": {
        "id": "q4TXprsnAPgb"
      }
    },
    {
      "cell_type": "code",
      "source": [
        "#addition"
      ],
      "metadata": {
        "id": "bsNdInXmAZ0y"
      },
      "execution_count": null,
      "outputs": []
    },
    {
      "cell_type": "code",
      "source": [
        "#substraction"
      ],
      "metadata": {
        "id": "p8vW2Uc7Ab8r"
      },
      "execution_count": null,
      "outputs": []
    },
    {
      "cell_type": "code",
      "source": [
        "# Multiplication\n",
        "2*2"
      ],
      "metadata": {
        "colab": {
          "base_uri": "https://localhost:8080/"
        },
        "id": "gIfQ30qNAfZa",
        "outputId": "1fd44842-38a0-4154-f9ba-a794c608c771"
      },
      "execution_count": null,
      "outputs": [
        {
          "output_type": "execute_result",
          "data": {
            "text/plain": [
              "4"
            ]
          },
          "metadata": {},
          "execution_count": 3
        }
      ]
    },
    {
      "cell_type": "code",
      "source": [
        "# Division\n",
        "3/2"
      ],
      "metadata": {
        "colab": {
          "base_uri": "https://localhost:8080/"
        },
        "id": "QM8QDI3dAjXr",
        "outputId": "b85c715b-8d70-40c8-8679-1f59a357aa69"
      },
      "execution_count": null,
      "outputs": [
        {
          "output_type": "execute_result",
          "data": {
            "text/plain": [
              "1.5"
            ]
          },
          "metadata": {},
          "execution_count": 4
        }
      ]
    },
    {
      "cell_type": "code",
      "source": [
        "# Floor Division\n",
        "7//4"
      ],
      "metadata": {
        "colab": {
          "base_uri": "https://localhost:8080/"
        },
        "id": "CmA4_EKRAn1z",
        "outputId": "6e7ed078-3ae6-41d6-e090-de59adf5dbc5"
      },
      "execution_count": null,
      "outputs": [
        {
          "output_type": "execute_result",
          "data": {
            "text/plain": [
              "1"
            ]
          },
          "metadata": {},
          "execution_count": 5
        }
      ]
    },
    {
      "cell_type": "code",
      "source": [],
      "metadata": {
        "id": "ij7lljCBAqZl"
      },
      "execution_count": null,
      "outputs": []
    }
  ]
}
